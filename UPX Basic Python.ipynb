{
 "cells": [
  {
   "cell_type": "markdown",
   "metadata": {},
   "source": [
    "# Python Basics:"
   ]
  },
  {
   "cell_type": "code",
   "execution_count": null,
   "metadata": {},
   "outputs": [],
   "source": [
    "import sys\n",
    "print (sys.version)\n",
    "print (sys.version_info)"
   ]
  },
  {
   "cell_type": "markdown",
   "metadata": {},
   "source": [
    "Indentation Problem:"
   ]
  },
  {
   "cell_type": "code",
   "execution_count": null,
   "metadata": {},
   "outputs": [],
   "source": [
    "i = 4\n",
    "if i <= 5:\n",
    "    print ('Value is ', i) # Error! Notice a single space at the start of the line\n",
    "    if i!=4:\n",
    "        print ('I repeat, the value is ', i)\n",
    "print (\"Sai\")"
   ]
  },
  {
   "cell_type": "code",
   "execution_count": 13,
   "metadata": {},
   "outputs": [
    {
     "ename": "SyntaxError",
     "evalue": "invalid syntax (<ipython-input-13-354a7317b0fe>, line 12)",
     "output_type": "error",
     "traceback": [
      "\u001b[1;36m  File \u001b[1;32m\"<ipython-input-13-354a7317b0fe>\"\u001b[1;36m, line \u001b[1;32m12\u001b[0m\n\u001b[1;33m    if x < anumber:\u001b[0m\n\u001b[1;37m     ^\u001b[0m\n\u001b[1;31mSyntaxError\u001b[0m\u001b[1;31m:\u001b[0m invalid syntax\n"
     ]
    }
   ],
   "source": [
    "#Example of indentation\n",
    "for x in alist:\n",
    "    if x < anumber:\n",
    "        print(x)\n",
    "    else:\n",
    "        print(-x)\n",
    "        \n",
    "#is similar to                   <------------------ Let us compare with other language\n",
    "\n",
    "for x in alist:\n",
    "    {\n",
    "        if x < anumber:\n",
    "        {\n",
    "            print(x)\n",
    "        }\n",
    "        else:\n",
    "        {\n",
    "            print(-x)\n",
    "        }\n",
    "    }"
   ]
  },
  {
   "cell_type": "markdown",
   "metadata": {},
   "source": [
    "# String Assignment"
   ]
  },
  {
   "cell_type": "markdown",
   "metadata": {},
   "source": [
    "1. I want to print the below string as it is. How do I do that?\n",
    "â€œApples are better than \\n Orangesâ€"
   ]
  },
  {
   "cell_type": "code",
   "execution_count": 1,
   "metadata": {},
   "outputs": [
    {
     "name": "stdout",
     "output_type": "stream",
     "text": [
      "'Apples are better than \\n Oranges'\n"
     ]
    }
   ],
   "source": [
    "s1='Apples are better than \\n Oranges'\n",
    "print(repr(s1))"
   ]
  },
  {
   "cell_type": "markdown",
   "metadata": {},
   "source": [
    "2. string_ex = 'I love python because it is so easy to use it and also it is used by many other IT companies'\n",
    "\n",
    "    I want you to split the above string on the separator.\n",
    "    How will you do it?"
   ]
  },
  {
   "cell_type": "code",
   "execution_count": 2,
   "metadata": {},
   "outputs": [
    {
     "name": "stdout",
     "output_type": "stream",
     "text": [
      "['I love python because ', ' is so easy to use ', ' and also ', ' is used by many other IT companies']\n"
     ]
    }
   ],
   "source": [
    "string_ex = 'I love python because it is so easy to use it and also it is used by many other IT companies'\n",
    "print(string_ex.split('it'))"
   ]
  },
  {
   "cell_type": "markdown",
   "metadata": {},
   "source": [
    "### 3.str_ex = I Love Python. \n",
    "How do you swap the cases of letters in the above input string?"
   ]
  },
  {
   "cell_type": "code",
   "execution_count": 5,
   "metadata": {},
   "outputs": [
    {
     "name": "stdout",
     "output_type": "stream",
     "text": [
      " i lOVE pYTHON\n"
     ]
    }
   ],
   "source": [
    "str_ex =' I Love Python'\n",
    "print(str_ex.swapcase())"
   ]
  },
  {
   "cell_type": "markdown",
   "metadata": {},
   "source": [
    "#### 4. str_input = Hey how are you doing. I am doing great\n",
    "Get the first 10 characters and the last 10 characters of the above the string and join them\n",
    "with a _ "
   ]
  },
  {
   "cell_type": "code",
   "execution_count": 6,
   "metadata": {},
   "outputs": [
    {
     "name": "stdout",
     "output_type": "stream",
     "text": [
      "Hey how ar_oing great\n"
     ]
    }
   ],
   "source": [
    "str_input = 'Hey how are you doing. I am doing great'\n",
    "print(str_input[:10]+\"_\"+str_input[-10:])\n"
   ]
  },
  {
   "cell_type": "markdown",
   "metadata": {},
   "source": [
    "#### 5. string1 = Hotelspace, string2=Facilities\n",
    "I want you to swap the first three letters and last three letters of both the strings and print\n",
    "the output by separating them with a @"
   ]
  },
  {
   "cell_type": "code",
   "execution_count": null,
   "metadata": {},
   "outputs": [],
   "source": []
  }
 ],
 "metadata": {
  "kernelspec": {
   "display_name": "Python 3",
   "language": "python",
   "name": "python3"
  },
  "language_info": {
   "codemirror_mode": {
    "name": "ipython",
    "version": 3
   },
   "file_extension": ".py",
   "mimetype": "text/x-python",
   "name": "python",
   "nbconvert_exporter": "python",
   "pygments_lexer": "ipython3",
   "version": "3.7.1"
  }
 },
 "nbformat": 4,
 "nbformat_minor": 2
}
